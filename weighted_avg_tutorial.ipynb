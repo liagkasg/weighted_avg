{
 "cells": [
  {
   "cell_type": "markdown",
   "metadata": {},
   "source": [
    "# Weighted Average calculation using GroupBy function with Pandas\n",
    "This notebook is usefull to calculate a weighted average based on a groupby condition in Python.\n",
    "\n",
    "Furthermore, you can find also a relevant information on the articles below:\n",
    "\n",
    "https://pbpython.com/weighted-average.html\n",
    "\n",
    "https://github.com/chris1610/pbpython/blob/master/notebooks/Learn_Pandas-Weighted_Average.ipynb\n",
    "\n",
    "https://www.reddit.com/r/learnpython/comments/5qojxx/perform_a_weighted_average_using_groupby/\n",
    "\n"
   ]
  },
  {
   "cell_type": "code",
   "execution_count": null,
   "metadata": {},
   "outputs": [],
   "source": [
    "import pandas as pd"
   ]
  },
  {
   "cell_type": "code",
   "execution_count": null,
   "metadata": {},
   "outputs": [],
   "source": [
    "# Example Dataset\n",
    "df = pd.read_excel('https://github.com/chris1610/pbpython/blob/master/data/sales-estimate.xlsx?raw=True', sheet_name='projections')\n",
    "\n",
    "df"
   ]
  },
  {
   "cell_type": "code",
   "execution_count": null,
   "metadata": {},
   "outputs": [],
   "source": [
    "# Weighted Average calculation using GroupBy\n",
    "def weighted_avg(df, groupby_name, value, counts):\n",
    "    \"\"\"Define the arguments of function: 1. df = dataframe\n",
    "                                         2. groupby_name = the list of the groupby columns\n",
    "                                         3. value = the list of values\n",
    "                                         4. counts = the list of counts \"\"\"\n",
    "    \n",
    "    df_weighted_avg = df.groupby(groupby_name).apply(lambda x: (x[value] * x[counts]).sum()/ x[counts].sum())\n",
    "    \n",
    "    df_weighted_avg = pd.DataFrame(df_weighted_avg, columns=['Weighted_avg'])\n",
    "    df_weighted_avg.reset_index(inplace=True)\n",
    "    \n",
    "    return df_weighted_avg\n"
   ]
  },
  {
   "cell_type": "code",
   "execution_count": null,
   "metadata": {},
   "outputs": [],
   "source": [
    "# Call Function \"weighted_avg\"\n",
    "df_wavg = weighted_avg(df, ['Rep', 'Manager'], 'Current_Price', 'Quantity')\n",
    "\n",
    "df_wavg"
   ]
  }
 ],
 "metadata": {
  "kernelspec": {
   "display_name": "Python 3",
   "language": "python",
   "name": "python3"
  },
  "language_info": {
   "codemirror_mode": {
    "name": "ipython",
    "version": 3
   },
   "file_extension": ".py",
   "mimetype": "text/x-python",
   "name": "python",
   "nbconvert_exporter": "python",
   "pygments_lexer": "ipython3",
   "version": "3.6.5"
  }
 },
 "nbformat": 4,
 "nbformat_minor": 2
}
